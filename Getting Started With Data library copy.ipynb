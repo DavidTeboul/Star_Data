{
 "cells": [
  {
   "cell_type": "raw",
   "metadata": {},
   "source": [
    "My_Python_Code"
   ]
  },
  {
   "cell_type": "code",
   "execution_count": 1,
   "metadata": {},
   "outputs": [
    {
     "name": "stdout",
     "output_type": "stream",
     "text": [
      "[0.038, 0.121, 0.023, 0.087, 0.0, 1.0, 0.321]\n"
     ]
    }
   ],
   "source": [
    "from math import sqrt\n",
    "from operator import mul\n",
    "from functools import reduce\n",
    "\n",
    "def Min_Max():\n",
    "    y=0\n",
    "    y2=1\n",
    "    array = [12,34,8,25,2,267,87]\n",
    "    \"\"\"\n",
    "        argument\n",
    "            - x: input image data in numpy array [32, 32, 3]\n",
    "        return\n",
    "            - normalized x \n",
    "    \"\"\"\n",
    "    min_val=array[0]\n",
    "    max_val=array[1]\n",
    "    for i in range (2,len(array)):\n",
    "        temp=array[i]\n",
    "        if(temp<min_val):\n",
    "            min_val=temp\n",
    "        if(temp>max_val):\n",
    "            max_val=temp\n",
    "    for i in range (len(array)):\n",
    "        newvalue= round((array[i]-min_val)/(max_val-min_val)*(y2-y)+y,3)\n",
    "        array[i]=newvalue\n",
    "    \n",
    "    return array\n",
    "print(Min_Max())"
   ]
  },
  {
   "cell_type": "code",
   "execution_count": 6,
   "metadata": {},
   "outputs": [
    {
     "name": "stdout",
     "output_type": "stream",
     "text": [
      "[0.12, 0.34, 0.08, 0.25, 0.02, 2.67, 0.87]\n"
     ]
    }
   ],
   "source": [
    "from math import sqrt\n",
    "from operator import mul\n",
    "from functools import reduce\n",
    "\n",
    "def DecimalScaling():\n",
    "    array = [12,34,8,25,2,267,87]\n",
    "    \"\"\"\n",
    "        argument\n",
    "            - x: input image data in numpy array [32, 32, 3]\n",
    "        return\n",
    "            - normalized x \n",
    "    \"\"\"\n",
    "    max_val=array[0]\n",
    "    for i in range (2,len(array)):\n",
    "        temp=array[i]\n",
    "        if(temp>max_val):\n",
    "            max_val=temp\n",
    "    count=2\n",
    "    while(max_val<1):\n",
    "        max_val=max_val/10\n",
    "        count=coun+1\n",
    "        \n",
    "    for i in range (len(array)):\n",
    "        newvalue=float(array[i]/(10**count))\n",
    "        array[i]=newvalue  \n",
    "    return array\n",
    "print(DecimalScaling())"
   ]
  },
  {
   "cell_type": "code",
   "execution_count": 5,
   "metadata": {},
   "outputs": [
    {
     "name": "stdout",
     "output_type": "stream",
     "text": [
      "[-0.572, -0.321, -0.617, -0.424, -0.686, 2.336, 0.283]\n"
     ]
    }
   ],
   "source": [
    "from math import sqrt\n",
    "from operator import mul\n",
    "from functools import reduce\n",
    "\n",
    "def Zscore():\n",
    "    array = [12,34,8,25,2,267,87]\n",
    "    moyen=0\n",
    "    for i in range (len(array)):\n",
    "        moyen=moyen+array[i]\n",
    "    moyen=float(moyen/len(array))\n",
    "    deviation=0\n",
    "    for i in range (len(array)):\n",
    "        deviation=float(deviation+(((array[i]-moyen)**2)/len(array)))\n",
    "    deviation=sqrt(deviation)\n",
    "    for i in range (len(array)):\n",
    "        newvalue=round(((array[i]-moyen)/deviation),3)\n",
    "        array[i]=newvalue\n",
    "    return array\n",
    "print(Zscore())\n"
   ]
  },
  {
   "cell_type": "raw",
   "metadata": {},
   "source": [
    "Python_Library"
   ]
  },
  {
   "cell_type": "raw",
   "metadata": {},
   "source": [
    "לא מצאתי סיפרייות מוכונות שעושה את תפקיד ישיר . חפשתי דרך קודים ב-"
   ]
  },
  {
   "cell_type": "raw",
   "metadata": {},
   "source": [
    "geeksforgeeks,stackoverflow"
   ]
  },
  {
   "cell_type": "code",
   "execution_count": null,
   "metadata": {},
   "outputs": [],
   "source": [
    "import numpy as np\n",
    "import numpy as np\n",
    "\n",
    "from sklearn.preprocessing import MinMaxScaler\n",
    "from scipy.stats import zscore\n",
    "from sklearn.preprocessing import maxabs_scale\n",
    "\n",
    "def Zscore(x):\n",
    "    moyen=np.mean(x)\n",
    "    deviation=np.std(x)\n",
    "    return [round((a - moyen) / deviation,3) for a in x]\n",
    " \n",
    "data = [12,34,8,25,2,267,87]\n",
    "print(MinMaxNorm(data))\n",
    "print(maxabs_scale(data))\n",
    "\n",
    "Zscorex = Zscore(x)\n",
    "print(Zscorex)\n"
   ]
  },
  {
   "cell_type": "code",
   "execution_count": 42,
   "metadata": {},
   "outputs": [
    {
     "name": "stdout",
     "output_type": "stream",
     "text": [
      "equal frequency binning\n",
      "[5, 10, 11, 13]\n",
      "[15, 35, 50, 55]\n",
      "[72, 92, 204, 215]\n",
      "[]\n",
      "\n",
      "\n",
      "equal width binning\n",
      "[10, 11, 13, 15, 35, 50, 55, 72]\n",
      "[92]\n",
      "[204]\n"
     ]
    }
   ],
   "source": [
    "from math import sqrt\n",
    "from operator import mul\n",
    "from functools import reduce\n",
    "\n",
    "\n",
    "\n",
    "#equal frequency \n",
    "def equifreq(arr1,x): \n",
    "\tsize = len(arr1) \n",
    "\tn_size = int(size / x) \n",
    "\tfor i in range(0, n_size): \n",
    "\t\tarr = [] \n",
    "\t\tfor j in range(i * n_size, (i + 1) * n_size): \n",
    "\t\t\tif j >= size: \n",
    "\t\t\t\tbreak\n",
    "\t\t\tarr = arr + [arr1[j]] \n",
    "\t\tprint(arr) \n",
    "\n",
    "#equal width \n",
    "def equiwidth(arr1, m): \n",
    "\ta = len(arr1) \n",
    "\tw = int((max(arr1) - min(arr1)) / m) \n",
    "\tmin1 = min(arr1) \n",
    "\tarr = [] \n",
    "\tfor i in range(0, m + 1): \n",
    "\t\tarr = arr + [min1 + w * i] \n",
    "\tarri=[] \n",
    "\t\n",
    "\tfor i in range(0, m): \n",
    "\t\ttemp = [] \n",
    "\t\tfor j in arr1: \n",
    "\t\t\tif j > arr[i] and j < arr[i+1]: \n",
    "\t\t\t\ttemp += [j] \n",
    "\t\tprint(temp)\n",
    "\t\n",
    "\n",
    "#data to be binned \n",
    "data = [5, 10, 11, 13, 15, 35, 50, 55, 72, 92, 204, 215] \n",
    "#no of bins \n",
    "m = 3\n",
    "\n",
    "print(\"equal frequency binning\") \n",
    "equifreq(data, m) \n",
    "\n",
    "print(\"\\n\\nequal width binning\") \n",
    "equiwidth(data, 3) "
   ]
  },
  {
   "cell_type": "raw",
   "metadata": {},
   "source": [
    "Option 1"
   ]
  },
  {
   "cell_type": "code",
   "execution_count": 3,
   "metadata": {},
   "outputs": [
    {
     "name": "stdout",
     "output_type": "stream",
     "text": [
      "[array([ 5, 10, 11, 13]), array([15, 35, 50, 55]), array([ 72,  92, 204, 215])]\n",
      "0      (4.789, 75.0]\n",
      "1      (4.789, 75.0]\n",
      "2      (4.789, 75.0]\n",
      "3      (4.789, 75.0]\n",
      "4      (4.789, 75.0]\n",
      "5      (4.789, 75.0]\n",
      "6      (4.789, 75.0]\n",
      "7      (4.789, 75.0]\n",
      "8      (4.789, 75.0]\n",
      "9      (75.0, 145.0]\n",
      "10    (145.0, 215.0]\n",
      "11    (145.0, 215.0]\n",
      "dtype: category\n",
      "Categories (3, interval[float64]): [(4.789, 75.0] < (75.0, 145.0] < (145.0, 215.0]]\n",
      "0     (4.999, 12.5]\n",
      "1     (4.999, 12.5]\n",
      "2     (4.999, 12.5]\n",
      "3      (12.5, 42.5]\n",
      "4      (12.5, 42.5]\n",
      "5      (12.5, 42.5]\n",
      "6      (42.5, 77.0]\n",
      "7      (42.5, 77.0]\n",
      "8      (42.5, 77.0]\n",
      "9     (77.0, 215.0]\n",
      "10    (77.0, 215.0]\n",
      "11    (77.0, 215.0]\n",
      "dtype: category\n",
      "Categories (4, interval[float64]): [(4.999, 12.5] < (12.5, 42.5] < (42.5, 77.0] < (77.0, 215.0]]\n"
     ]
    }
   ],
   "source": [
    "from math import sqrt\n",
    "from operator import mul\n",
    "from functools import reduce\n",
    "import pandas as pd\n",
    "import numpy as np\n",
    "\n",
    "# list of strings\n",
    "data = [5, 10, 11, 13, 15, 35, 50, 55, 72, 92, 204, 215]\n",
    "\n",
    "t = np.array_split(data, 3)\n",
    "print (t)\n",
    "\n",
    "s = pd.Series(np.array(data))\n",
    "F=pd.cut(s, 3,include_lowest=True)\n",
    "w=(pd.qcut(s, 4,))\n",
    "print(F)\n",
    "print(w)\n",
    "\n"
   ]
  },
  {
   "cell_type": "raw",
   "metadata": {},
   "source": [
    "# Option 2"
   ]
  },
  {
   "cell_type": "code",
   "execution_count": 1,
   "metadata": {},
   "outputs": [
    {
     "name": "stdout",
     "output_type": "stream",
     "text": [
      "0      (4.789, 75.0]\n",
      "1      (4.789, 75.0]\n",
      "2      (4.789, 75.0]\n",
      "3      (4.789, 75.0]\n",
      "4      (4.789, 75.0]\n",
      "5      (4.789, 75.0]\n",
      "6      (4.789, 75.0]\n",
      "7      (4.789, 75.0]\n",
      "8      (4.789, 75.0]\n",
      "9      (75.0, 145.0]\n",
      "10    (145.0, 215.0]\n",
      "11    (145.0, 215.0]\n",
      "dtype: category\n",
      "Categories (3, interval[float64]): [(4.789, 75.0] < (75.0, 145.0] < (145.0, 215.0]]\n",
      "0     (4.999, 12.5]\n",
      "1     (4.999, 12.5]\n",
      "2     (4.999, 12.5]\n",
      "3      (12.5, 42.5]\n",
      "4      (12.5, 42.5]\n",
      "5      (12.5, 42.5]\n",
      "6      (42.5, 77.0]\n",
      "7      (42.5, 77.0]\n",
      "8      (42.5, 77.0]\n",
      "9     (77.0, 215.0]\n",
      "10    (77.0, 215.0]\n",
      "11    (77.0, 215.0]\n",
      "dtype: category\n",
      "Categories (4, interval[float64]): [(4.999, 12.5] < (12.5, 42.5] < (42.5, 77.0] < (77.0, 215.0]]\n"
     ]
    },
    {
     "ename": "NameError",
     "evalue": "name 'equiwidth' is not defined",
     "output_type": "error",
     "traceback": [
      "\u001b[0;31m---------------------------------------------------------------------------\u001b[0m",
      "\u001b[0;31mNameError\u001b[0m                                 Traceback (most recent call last)",
      "\u001b[0;32m<ipython-input-1-dab36f759ca8>\u001b[0m in \u001b[0;36m<module>\u001b[0;34m\u001b[0m\n\u001b[1;32m     16\u001b[0m \u001b[0mprint\u001b[0m\u001b[0;34m(\u001b[0m\u001b[0mF\u001b[0m\u001b[0;34m)\u001b[0m\u001b[0;34m\u001b[0m\u001b[0;34m\u001b[0m\u001b[0m\n\u001b[1;32m     17\u001b[0m \u001b[0mprint\u001b[0m\u001b[0;34m(\u001b[0m\u001b[0mw\u001b[0m\u001b[0;34m)\u001b[0m\u001b[0;34m\u001b[0m\u001b[0;34m\u001b[0m\u001b[0m\n\u001b[0;32m---> 18\u001b[0;31m \u001b[0mprint\u001b[0m\u001b[0;34m(\u001b[0m\u001b[0mpd\u001b[0m\u001b[0;34m.\u001b[0m\u001b[0mDataFrame\u001b[0m\u001b[0;34m(\u001b[0m\u001b[0mequiwidth\u001b[0m\u001b[0;34m(\u001b[0m\u001b[0mdata\u001b[0m\u001b[0;34m,\u001b[0m \u001b[0;36m3\u001b[0m\u001b[0;34m)\u001b[0m\u001b[0;34m)\u001b[0m\u001b[0;34m)\u001b[0m\u001b[0;34m\u001b[0m\u001b[0;34m\u001b[0m\u001b[0m\n\u001b[0m\u001b[1;32m     19\u001b[0m \u001b[0mprint\u001b[0m\u001b[0;34m(\u001b[0m\u001b[0mpd\u001b[0m\u001b[0;34m.\u001b[0m\u001b[0mDataFrame\u001b[0m\u001b[0;34m(\u001b[0m\u001b[0mequifreq\u001b[0m\u001b[0;34m(\u001b[0m\u001b[0mdata\u001b[0m\u001b[0;34m,\u001b[0m \u001b[0;36m3\u001b[0m\u001b[0;34m)\u001b[0m\u001b[0;34m)\u001b[0m\u001b[0;34m)\u001b[0m\u001b[0;34m\u001b[0m\u001b[0;34m\u001b[0m\u001b[0m\n",
      "\u001b[0;31mNameError\u001b[0m: name 'equiwidth' is not defined"
     ]
    }
   ],
   "source": [
    "from math import sqrt\n",
    "from operator import mul\n",
    "from functools import reduce\n",
    "\n",
    "\n",
    "import pandas as pd\n",
    "import numpy as np\n",
    "\n",
    "def equifreq(arr1, m): \n",
    "      \n",
    "    a = len(arr1) \n",
    "    n = int(a / m)\n",
    "    arri=[]\n",
    "    for i in range(0, m): \n",
    "        arr = [] \n",
    "        for j in range(i * n, (i + 1) * n): \n",
    "            if j >= a: \n",
    "                break\n",
    "            arr = arr + [arr1[j]] \n",
    "        arri += [arr] \n",
    "    return (arri)        \n",
    "  \n",
    "#equal width \n",
    "def equiwidth(arr1, m): \n",
    "    a = len(arr1) \n",
    "    w = int((max(arr1) - min(arr1)) / m) \n",
    "    min1 = min(arr1) \n",
    "    arr = [] \n",
    "    for i in range(0, m + 1): \n",
    "        arr = arr + [min1 + w * i] \n",
    "    arri=[]\n",
    "      \n",
    "    for i in range(0, m): \n",
    "        temp = [] \n",
    "        for j in arr1: \n",
    "            if j > arr[i] and j < arr[i+1]: \n",
    "                temp += [j] \n",
    "        arri += [temp] \n",
    "    return (arri) \n",
    "\t\t\n",
    " \n",
    "# list of strings\n",
    "data = [5, 10, 11, 13, 15, 35, 50, 55, 72, 92, 204, 215]\n",
    "\n",
    "t = np.array_split(data, 3)\n",
    "print (t)\n",
    "\n",
    "s = pd.Series(np.array(data))\n",
    "F=pd.cut(s, 3,include_lowest=True)\n",
    "w=(pd.qcut(s, 4,))\n",
    "print(F)\n",
    "print(w)\n",
    "print(pd.DataFrame(equiwidth(data, 3)))\n",
    "print(pd.DataFrame(equifreq(data, 3)))\n"
   ]
  },
  {
   "cell_type": "raw",
   "metadata": {},
   "source": [
    "My_Python_Code"
   ]
  },
  {
   "cell_type": "code",
   "execution_count": 41,
   "metadata": {},
   "outputs": [
    {
     "name": "stdout",
     "output_type": "stream",
     "text": [
      "917715040\n",
      "[280, 288, 266, 295, 302, 310, 303, 328, 309, 320]\n",
      "[280, 288, 266, 278, 283, 287, 302, 305, 313, 313]\n",
      "[280, 288, 266, 295, 283.4, 291.3, 300.2, 304.1, 314.3, 313.6]\n"
     ]
    }
   ],
   "source": [
    "\n",
    "import statistics \n",
    "import math \n",
    "from collections import OrderedDict\n",
    "\n",
    "\n",
    "def aver(a,i,c):\n",
    "    x=0\n",
    "    t=i-c\n",
    "    for j in range(t,i):\n",
    "        x=x+a[j]\n",
    "    return int(x/c)\n",
    "\n",
    "def pourc(a,i,t):\n",
    "    x=0\n",
    "    index=len(t)\n",
    "    temp=0\n",
    "    y=i-index\n",
    "    for j in range(y,i):\n",
    "        x=x+a[j]*t[temp]\n",
    "        temp=temp+1\n",
    "    return round(x,1)\n",
    "        \n",
    "    \n",
    "def get_bin_mean(a,b):\n",
    "    print(a)\n",
    "    k = [0]*len(a)\n",
    "    for i in range(len(a)):\n",
    "        k[i]=a[i]\n",
    "    for i in range(b,len(k)):\n",
    "        k[i]= aver(a,i,b)\n",
    "    return k\n",
    "\n",
    "def Weighter(a,t):\n",
    "    index=len(t)\n",
    "    k = [0]*len(a)\n",
    "    for i in range(len(a)):\n",
    "        k[i]=a[i]\n",
    "    for i in range(len(t),len(k)):\n",
    "        k[i]= pourc(a,i,t)\n",
    "    return k\n",
    "\n",
    "\n",
    "def Exponantial(a):\n",
    "    index=a[0]\n",
    "    j=0\n",
    "    for i in range (1,len(a)):\n",
    "        j=2*i+2\n",
    "        index=a[i]*(2*i+2)+index*(1-2*i+2)\n",
    "    return index\n",
    "\n",
    "\n",
    "\n",
    "\n",
    "data = [280,288,266,295,302,310,303,328,309,320]\n",
    "print(Exponantial(data))\n",
    "print(get_bin_mean(data,3))\n",
    "print(Weighter(data,[0.1,0.2,0.3,0.4]))\n"
   ]
  },
  {
   "cell_type": "raw",
   "metadata": {},
   "source": [
    "# Python_Library"
   ]
  },
  {
   "cell_type": "code",
   "execution_count": 21,
   "metadata": {},
   "outputs": [
    {
     "name": "stdout",
     "output_type": "stream",
     "text": [
      "0           NaN\n",
      "1           NaN\n",
      "2    278.000000\n",
      "3    283.000000\n",
      "4    287.666667\n",
      "5    302.333333\n",
      "6    305.000000\n",
      "7    313.666667\n",
      "8    313.333333\n",
      "9    319.000000\n",
      "dtype: float64\n"
     ]
    }
   ],
   "source": [
    "import statistics \n",
    "import math \n",
    "from collections import OrderedDict\n",
    "import pandas as pd\n",
    "import numpy as np\n",
    "\n",
    "data = [280,288,266,295,302,310,303,328,309,320]\n",
    "s = pd.Series(data)\n",
    "print(s.rolling(3).mean())"
   ]
  },
  {
   "cell_type": "raw",
   "metadata": {},
   "source": [
    "# My_Python_Code"
   ]
  },
  {
   "cell_type": "code",
   "execution_count": 44,
   "metadata": {},
   "outputs": [
    {
     "name": "stdout",
     "output_type": "stream",
     "text": [
      "[[4, 8, 9, 15], [21, 21, 24, 25], [26, 28, 29, 34]]\n",
      "[4, 4, 4, 15]\n",
      "[21, 21, 25, 25]\n",
      "[26, 26, 26, 34]\n",
      "[9, 9, 9, 9]\n",
      "[23, 23, 23, 23]\n",
      "[30, 30, 30, 30]\n"
     ]
    }
   ],
   "source": [
    "from math import sqrt\n",
    "from operator import mul\n",
    "from functools import reduce\n",
    "\n",
    "\n",
    "data = [4, 8, 9, 15, 21, 21, 24, 25, 26, 28, 29, 34]\n",
    "\n",
    "\n",
    "def split_list(alist, wanted_parts):\n",
    "    length = len(alist)\n",
    "    return [alist[i*length//wanted_parts: (i+1)*length//wanted_parts] \n",
    "             for i in range(wanted_parts)]\n",
    "\n",
    "def mean(array):\n",
    "    min_val=array[0]\n",
    "    max_val=array[1]\n",
    "    for i in range (2,len(array)):\n",
    "        temp=array[i]\n",
    "        if(temp<min_val):\n",
    "            min_val=temp\n",
    "        if(temp>max_val):\n",
    "            max_val=temp\n",
    "    x=int((max_val+min_val)/2)\n",
    "    for i in range (len(array)):\n",
    "        array[i]=x\n",
    "    return array\n",
    "\n",
    "def boundaries(array):\n",
    "    min_val=array[0]\n",
    "    max_val=array[1]\n",
    "    for i in range (2,len(array)):\n",
    "        temp=array[i]\n",
    "        if(temp<min_val):\n",
    "            min_val=temp\n",
    "        if(temp>max_val):\n",
    "            max_val=temp\n",
    "    for i in range (len(array)):\n",
    "        if(max_val-array[i]>array[i]-min_val):\n",
    "            array[i]= min_val\n",
    "        else:\n",
    "            array[i]=max_val\n",
    "    return array\n",
    "    \n",
    "def boundaries2(array,x):\n",
    "    for i in range(x):\n",
    "        data3=boundaries(array[i])\n",
    "        print(data3)\n",
    "        \n",
    "def mean2(array,x):\n",
    "    for i in range(x):\n",
    "        data3=mean(array[i])\n",
    "        print(data3)\n",
    "        \n",
    "\n",
    "\n",
    "    \n",
    "        \n",
    "print(split_list(data, 3))\n",
    "boundaries2(split_list(data, 3),3)\n",
    "mean2(split_list(data, 3),3)\n",
    "\n",
    "\n"
   ]
  },
  {
   "cell_type": "raw",
   "metadata": {},
   "source": [
    "Python_Library"
   ]
  },
  {
   "cell_type": "raw",
   "metadata": {},
   "source": [
    "Option with Numphy and loop "
   ]
  },
  {
   "cell_type": "code",
   "execution_count": 45,
   "metadata": {},
   "outputs": [
    {
     "name": "stdout",
     "output_type": "stream",
     "text": [
      "[array([ 4,  8,  9, 15]), array([21, 21, 24, 25]), array([26, 28, 29, 34])]\n",
      "[array([9, 9, 9, 9]), array([22, 22, 22, 22]), array([29, 29, 29, 29])]\n",
      "[array([ 4,  4,  4, 15]), array([21, 21, 25, 25]), array([26, 26, 26, 34])]\n"
     ]
    }
   ],
   "source": [
    "from math import sqrt\n",
    "from operator import mul\n",
    "from functools import reduce\n",
    "import pandas as pd\n",
    "import numpy as np\n",
    "\n",
    "\n",
    "data = [4, 8, 9, 15, 21, 21, 24, 25, 26, 28, 29, 34]\n",
    "\n",
    "t = np.array_split(data, 3)\n",
    "print(t)\n",
    "for i in range(len(t)):\n",
    "    for j in range(len(t[i])):\n",
    "        t[i][j]=np.asarray(np.array_split(data, 3))[i].mean()\n",
    "print(t)       \n",
    "\n",
    "t = np.array_split(data,3)\n",
    "for i in range(len(t)):\n",
    "    h=np.min(t[i])\n",
    "    f=np.max(t[i])\n",
    "    for j in range(len(t[i])):\n",
    "        if(((f+h)/2)>t[i][j]):\n",
    "            t[i][j]= h\n",
    "        else:\n",
    "            t[i][j]= f\n",
    "print(t) \n",
    "\n",
    "\n"
   ]
  }
 ],
 "metadata": {
  "kernelspec": {
   "display_name": "Python 3",
   "language": "python",
   "name": "python3"
  },
  "language_info": {
   "codemirror_mode": {
    "name": "ipython",
    "version": 3
   },
   "file_extension": ".py",
   "mimetype": "text/x-python",
   "name": "python",
   "nbconvert_exporter": "python",
   "pygments_lexer": "ipython3",
   "version": "3.7.6"
  }
 },
 "nbformat": 4,
 "nbformat_minor": 4
}
